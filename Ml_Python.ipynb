{
 "cells": [
  {
   "cell_type": "code",
   "execution_count": 42,
   "metadata": {
    "collapsed": true,
    "pycharm": {
     "is_executing": false
    }
   },
   "outputs": [],
   "source": [
    "import pandas as pd\n",
    "import numpy as np\n",
    "import matplotlib as tlp"
   ]
  },
  {
   "cell_type": "code",
   "execution_count": 43,
   "outputs": [
    {
     "data": {
      "text/plain": "      production_budget  title_year  aspect_ratio  duration.1  \\\n0           425000000.0      2009.0      1.780000       178.0   \n1           300000000.0      2007.0      2.350000       169.0   \n2           300000000.0      2015.0      2.350000       148.0   \n3           275000000.0      2012.0      2.350000       164.0   \n4           275000000.0      2013.0      2.350000       150.0   \n...                 ...         ...           ...         ...   \n2216         10800000.0      2006.0      2.350000       118.0   \n2217         10600000.0      2013.0      2.350000        98.0   \n2218         10500000.0      2007.0      2.350000        97.0   \n2219         10100000.0      2010.0      2.157506       144.0   \n2220         10100000.0      2007.0      1.850000       111.0   \n\n      cast_total_facebook_likes        budget  imdb_score  opening_gross  \\\n0                        4834.0  2.370000e+08         7.9     77025481.0   \n1                       48350.0  3.000000e+08         7.1    139802190.0   \n2                       11700.0  2.450000e+08         6.8     70403148.0   \n3                      106759.0  2.500000e+08         8.5    160887295.0   \n4                       45757.0  2.150000e+08         6.5     29210849.0   \n...                         ...           ...         ...            ...   \n2216                      378.0  1.500000e+07         6.4        28298.0   \n2217                     2271.0  7.000000e+06         5.5         4608.0   \n2218                    20312.0  1.000000e+07         6.5      4712341.0   \n2219                     1121.0  5.329615e+07         5.3       642156.0   \n2220                     1526.0  1.100000e+07         5.8       635000.0   \n\n      screens  \n0      3452.0  \n1      4362.0  \n2      3929.0  \n3      4404.0  \n4      3904.0  \n...       ...  \n2216      6.0  \n2217      3.0  \n2218   2155.0  \n2219     82.0  \n2220    857.0  \n\n[2221 rows x 9 columns]",
      "text/html": "<div>\n<style scoped>\n    .dataframe tbody tr th:only-of-type {\n        vertical-align: middle;\n    }\n\n    .dataframe tbody tr th {\n        vertical-align: top;\n    }\n\n    .dataframe thead th {\n        text-align: right;\n    }\n</style>\n<table border=\"1\" class=\"dataframe\">\n  <thead>\n    <tr style=\"text-align: right;\">\n      <th></th>\n      <th>production_budget</th>\n      <th>title_year</th>\n      <th>aspect_ratio</th>\n      <th>duration.1</th>\n      <th>cast_total_facebook_likes</th>\n      <th>budget</th>\n      <th>imdb_score</th>\n      <th>opening_gross</th>\n      <th>screens</th>\n    </tr>\n  </thead>\n  <tbody>\n    <tr>\n      <th>0</th>\n      <td>425000000.0</td>\n      <td>2009.0</td>\n      <td>1.780000</td>\n      <td>178.0</td>\n      <td>4834.0</td>\n      <td>2.370000e+08</td>\n      <td>7.9</td>\n      <td>77025481.0</td>\n      <td>3452.0</td>\n    </tr>\n    <tr>\n      <th>1</th>\n      <td>300000000.0</td>\n      <td>2007.0</td>\n      <td>2.350000</td>\n      <td>169.0</td>\n      <td>48350.0</td>\n      <td>3.000000e+08</td>\n      <td>7.1</td>\n      <td>139802190.0</td>\n      <td>4362.0</td>\n    </tr>\n    <tr>\n      <th>2</th>\n      <td>300000000.0</td>\n      <td>2015.0</td>\n      <td>2.350000</td>\n      <td>148.0</td>\n      <td>11700.0</td>\n      <td>2.450000e+08</td>\n      <td>6.8</td>\n      <td>70403148.0</td>\n      <td>3929.0</td>\n    </tr>\n    <tr>\n      <th>3</th>\n      <td>275000000.0</td>\n      <td>2012.0</td>\n      <td>2.350000</td>\n      <td>164.0</td>\n      <td>106759.0</td>\n      <td>2.500000e+08</td>\n      <td>8.5</td>\n      <td>160887295.0</td>\n      <td>4404.0</td>\n    </tr>\n    <tr>\n      <th>4</th>\n      <td>275000000.0</td>\n      <td>2013.0</td>\n      <td>2.350000</td>\n      <td>150.0</td>\n      <td>45757.0</td>\n      <td>2.150000e+08</td>\n      <td>6.5</td>\n      <td>29210849.0</td>\n      <td>3904.0</td>\n    </tr>\n    <tr>\n      <th>...</th>\n      <td>...</td>\n      <td>...</td>\n      <td>...</td>\n      <td>...</td>\n      <td>...</td>\n      <td>...</td>\n      <td>...</td>\n      <td>...</td>\n      <td>...</td>\n    </tr>\n    <tr>\n      <th>2216</th>\n      <td>10800000.0</td>\n      <td>2006.0</td>\n      <td>2.350000</td>\n      <td>118.0</td>\n      <td>378.0</td>\n      <td>1.500000e+07</td>\n      <td>6.4</td>\n      <td>28298.0</td>\n      <td>6.0</td>\n    </tr>\n    <tr>\n      <th>2217</th>\n      <td>10600000.0</td>\n      <td>2013.0</td>\n      <td>2.350000</td>\n      <td>98.0</td>\n      <td>2271.0</td>\n      <td>7.000000e+06</td>\n      <td>5.5</td>\n      <td>4608.0</td>\n      <td>3.0</td>\n    </tr>\n    <tr>\n      <th>2218</th>\n      <td>10500000.0</td>\n      <td>2007.0</td>\n      <td>2.350000</td>\n      <td>97.0</td>\n      <td>20312.0</td>\n      <td>1.000000e+07</td>\n      <td>6.5</td>\n      <td>4712341.0</td>\n      <td>2155.0</td>\n    </tr>\n    <tr>\n      <th>2219</th>\n      <td>10100000.0</td>\n      <td>2010.0</td>\n      <td>2.157506</td>\n      <td>144.0</td>\n      <td>1121.0</td>\n      <td>5.329615e+07</td>\n      <td>5.3</td>\n      <td>642156.0</td>\n      <td>82.0</td>\n    </tr>\n    <tr>\n      <th>2220</th>\n      <td>10100000.0</td>\n      <td>2007.0</td>\n      <td>1.850000</td>\n      <td>111.0</td>\n      <td>1526.0</td>\n      <td>1.100000e+07</td>\n      <td>5.8</td>\n      <td>635000.0</td>\n      <td>857.0</td>\n    </tr>\n  </tbody>\n</table>\n<p>2221 rows × 9 columns</p>\n</div>"
     },
     "metadata": {},
     "output_type": "execute_result",
     "execution_count": 43
    }
   ],
   "source": [
    "x=pd.read_csv('/home/uriel/Documentos/X2.csv')\n",
    "y=x['worldwide_gross']\n",
    "x=x.drop('worldwide_gross',axis=1)\n",
    "x"
   ],
   "metadata": {
    "collapsed": false,
    "pycharm": {
     "name": "#%%\n",
     "is_executing": false
    }
   }
  },
  {
   "cell_type": "code",
   "execution_count": 44,
   "outputs": [],
   "source": [
    "from sklearn.model_selection import train_test_split\n",
    "x_train,x_test,y_train,y_test = train_test_split(x,y,random_state=1)"
   ],
   "metadata": {
    "collapsed": false,
    "pycharm": {
     "name": "#%%\n",
     "is_executing": false
    }
   }
  },
  {
   "cell_type": "code",
   "execution_count": 45,
   "outputs": [
    {
     "data": {
      "text/plain": "556"
     },
     "metadata": {},
     "output_type": "execute_result",
     "execution_count": 45
    }
   ],
   "source": [
    "len(y_test)\n"
   ],
   "metadata": {
    "collapsed": false,
    "pycharm": {
     "name": "#%%\n",
     "is_executing": false
    }
   }
  },
  {
   "cell_type": "code",
   "execution_count": 46,
   "outputs": [
    {
     "data": {
      "text/plain": "556"
     },
     "metadata": {},
     "output_type": "execute_result",
     "execution_count": 46
    }
   ],
   "source": [
    "len(x_test)"
   ],
   "metadata": {
    "collapsed": false,
    "pycharm": {
     "name": "#%%\n",
     "is_executing": false
    }
   }
  },
  {
   "cell_type": "code",
   "execution_count": 47,
   "outputs": [
    {
     "data": {
      "text/plain": "1665"
     },
     "metadata": {},
     "output_type": "execute_result",
     "execution_count": 47
    }
   ],
   "source": [
    "len(x_train)"
   ],
   "metadata": {
    "collapsed": false,
    "pycharm": {
     "name": "#%%\n",
     "is_executing": false
    }
   }
  },
  {
   "cell_type": "code",
   "execution_count": 48,
   "outputs": [
    {
     "data": {
      "text/plain": "1665"
     },
     "metadata": {},
     "output_type": "execute_result",
     "execution_count": 48
    }
   ],
   "source": [
    "len(y_train)"
   ],
   "metadata": {
    "collapsed": false,
    "pycharm": {
     "name": "#%%\n",
     "is_executing": false
    }
   }
  },
  {
   "cell_type": "code",
   "execution_count": 49,
   "outputs": [],
   "source": [
    "from sklearn.model_selection import GridSearchCV\n",
    "param_test1 = {'n_estimators':range(20,501,20)}\n",
    "\n",
    "\n"
   ],
   "metadata": {
    "collapsed": false,
    "pycharm": {
     "name": "#%%\n",
     "is_executing": false
    }
   }
  },
  {
   "cell_type": "code",
   "execution_count": 50,
   "outputs": [],
   "source": [
    "from sklearn.ensemble import GradientBoostingRegressor\n",
    "estimator = GradientBoostingRegressor(learning_rate=0.1,\n",
    "                                      min_samples_split=500,\n",
    "                                      min_samples_leaf=50,\n",
    "                                      max_depth=8,\n",
    "                                      max_features='sqrt',\n",
    "                                      subsample=0.8,\n",
    "                                      random_state=10)\n"
   ],
   "metadata": {
    "collapsed": false,
    "pycharm": {
     "name": "#%%\n",
     "is_executing": false
    }
   }
  },
  {
   "cell_type": "code",
   "execution_count": 51,
   "outputs": [],
   "source": [
    "gsearch1 =GridSearchCV(estimator,\n",
    "                       param_grid=param_test1,\n",
    "                       scoring='r2',\n",
    "                       cv=5)"
   ],
   "metadata": {
    "collapsed": false,
    "pycharm": {
     "name": "#%%\n",
     "is_executing": false
    }
   }
  },
  {
   "cell_type": "code",
   "execution_count": 52,
   "outputs": [
    {
     "data": {
      "text/plain": "GridSearchCV(cv=5, error_score='raise-deprecating',\n             estimator=GradientBoostingRegressor(alpha=0.9,\n                                                 criterion='friedman_mse',\n                                                 init=None, learning_rate=0.1,\n                                                 loss='ls', max_depth=8,\n                                                 max_features='sqrt',\n                                                 max_leaf_nodes=None,\n                                                 min_impurity_decrease=0.0,\n                                                 min_impurity_split=None,\n                                                 min_samples_leaf=50,\n                                                 min_samples_split=500,\n                                                 min_weight_fraction_leaf=0.0,\n                                                 n_estimators=100,\n                                                 n_iter_no_change=None,\n                                                 presort='auto',\n                                                 random_state=10, subsample=0.8,\n                                                 tol=0.0001,\n                                                 validation_fraction=0.1,\n                                                 verbose=0, warm_start=False),\n             iid='warn', n_jobs=None,\n             param_grid={'n_estimators': range(20, 501, 20)},\n             pre_dispatch='2*n_jobs', refit=True, return_train_score=False,\n             scoring='r2', verbose=0)"
     },
     "metadata": {},
     "output_type": "execute_result",
     "execution_count": 52
    }
   ],
   "source": [
    "gsearch1.fit(x_train,y_train)\n"
   ],
   "metadata": {
    "collapsed": false,
    "pycharm": {
     "name": "#%%gsearch1.param_grid, gsearch1.best_params_, gsearch1.best_score_\n",
     "is_executing": false
    }
   }
  },
  {
   "cell_type": "code",
   "execution_count": 53,
   "outputs": [
    {
     "data": {
      "text/plain": "({'n_estimators': range(20, 501, 20)},\n {'n_estimators': 240},\n 0.7553059694284987)"
     },
     "metadata": {},
     "output_type": "execute_result",
     "execution_count": 53
    }
   ],
   "source": [
    "gsearch1.param_grid, gsearch1.best_params_, gsearch1.best_score_\n"
   ],
   "metadata": {
    "collapsed": false,
    "pycharm": {
     "name": "#%%\n",
     "is_executing": false
    }
   }
  },
  {
   "cell_type": "code",
   "execution_count": 54,
   "outputs": [
    {
     "name": "stderr",
     "text": [
      "/home/uriel/anaconda3/envs/MlPython/lib/python3.7/site-packages/sklearn/model_selection/_split.py:1978: FutureWarning: The default value of cv will change from 3 to 5 in version 0.22. Specify it explicitly to silence this warning.\n  warnings.warn(CV_WARNING, FutureWarning)\n"
     ],
     "output_type": "stream"
    },
    {
     "data": {
      "text/plain": "{'fit_time': array([0.58152056, 0.69867706, 0.77889442]),\n 'score_time': array([0.00837064, 0.00865555, 0.01570511]),\n 'test_score': array([0.64008566, 0.81626875, 0.76780843])}"
     },
     "metadata": {},
     "output_type": "execute_result",
     "execution_count": 54
    }
   ],
   "source": [
    "from sklearn.model_selection import cross_validate\n",
    "final=cross_validate(gsearch1.best_estimator_,x_train,y_train)\n",
    "final\n",
    "\n"
   ],
   "metadata": {
    "collapsed": false,
    "pycharm": {
     "name": "#%%\n",
     "is_executing": false
    }
   }
  },
  {
   "cell_type": "code",
   "execution_count": 55,
   "outputs": [
    {
     "name": "stdout",
     "text": [
      "0.74138761251573\n"
     ],
     "output_type": "stream"
    }
   ],
   "source": [
    "test_scores=final['test_score']\n",
    "#traine_scores=final['train_score']\n",
    "print(np.mean(test_scores))\n",
    "#print(np.mean[traine_scores])\n",
    "\n"
   ],
   "metadata": {
    "collapsed": false,
    "pycharm": {
     "name": "#%%\n",
     "is_executing": false
    }
   }
  },
  {
   "cell_type": "code",
   "execution_count": 56,
   "outputs": [],
   "source": [
    "estimator = GradientBoostingRegressor(learning_rate=0.1,\n",
    "                                      min_samples_split=500,\n",
    "                                      min_samples_leaf=50,\n",
    "                                      max_depth=8,\n",
    "                                      max_features='sqrt',\n",
    "                                      subsample=0.8,\n",
    "                                      random_state=10,\n",
    "                                      n_estimators=240)"
   ],
   "metadata": {
    "collapsed": false,
    "pycharm": {
     "name": "#%%\n",
     "is_executing": false
    }
   }
  },
  {
   "cell_type": "code",
   "execution_count": 57,
   "outputs": [
    {
     "data": {
      "text/plain": "GradientBoostingRegressor(alpha=0.9, criterion='friedman_mse', init=None,\n                          learning_rate=0.1, loss='ls', max_depth=8,\n                          max_features='sqrt', max_leaf_nodes=None,\n                          min_impurity_decrease=0.0, min_impurity_split=None,\n                          min_samples_leaf=50, min_samples_split=500,\n                          min_weight_fraction_leaf=0.0, n_estimators=240,\n                          n_iter_no_change=None, presort='auto',\n                          random_state=10, subsample=0.8, tol=0.0001,\n                          validation_fraction=0.1, verbose=0, warm_start=False)"
     },
     "metadata": {},
     "output_type": "execute_result",
     "execution_count": 57
    }
   ],
   "source": [
    "estimator.fit(x_train,y_train)\n"
   ],
   "metadata": {
    "collapsed": false,
    "pycharm": {
     "name": "#%%\n",
     "is_executing": false
    }
   }
  },
  {
   "cell_type": "code",
   "execution_count": 58,
   "outputs": [
    {
     "data": {
      "text/plain": "0.8092888852563106"
     },
     "metadata": {},
     "output_type": "execute_result",
     "execution_count": 58
    }
   ],
   "source": [
    "estimator.score(x_test,y_test)\n",
    "\n"
   ],
   "metadata": {
    "collapsed": false,
    "pycharm": {
     "name": "#%%\n",
     "is_executing": false
    }
   }
  }
 ],
 "metadata": {
  "kernelspec": {
   "display_name": "Python 3",
   "language": "python",
   "name": "python3"
  },
  "language_info": {
   "codemirror_mode": {
    "name": "ipython",
    "version": 2
   },
   "file_extension": ".py",
   "mimetype": "text/x-python",
   "name": "python",
   "nbconvert_exporter": "python",
   "pygments_lexer": "ipython2",
   "version": "2.7.6"
  },
  "pycharm": {
   "stem_cell": {
    "cell_type": "raw",
    "source": [],
    "metadata": {
     "collapsed": false
    }
   }
  }
 },
 "nbformat": 4,
 "nbformat_minor": 0
}